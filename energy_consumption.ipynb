{
 "cells": [
  {
   "cell_type": "code",
   "execution_count": 9,
   "id": "8b63b33b-e798-4db3-85f5-3bb9f4a5272b",
   "metadata": {},
   "outputs": [],
   "source": [
    "import pandas as pd\n",
    "import numpy as np\n",
    "from datetime import datetime, timedelta"
   ]
  },
  {
   "cell_type": "code",
   "execution_count": 10,
   "id": "0954aeb3-3bb6-4827-b405-0a8be475f85f",
   "metadata": {},
   "outputs": [],
   "source": [
    "# Parametreler\n",
    "start_date = datetime(2023, 7, 9)\n",
    "end_date = datetime(2024, 7, 9)\n",
    "hours = pd.date_range(start=start_date, end=end_date, freq='h')\n"
   ]
  },
  {
   "cell_type": "code",
   "execution_count": 16,
   "id": "3a681d09-4f94-4e00-8d10-570f86f314ac",
   "metadata": {},
   "outputs": [],
   "source": [
    "# Örnek parametrelerin oluşturulması\n",
    "np.random.seed(42)\n",
    "base_consumption = np.random.normal(5, 0.25, len(hours))  # Ortalama tüketim 5 kWh, standart sapma 0.5\n",
    "seasonal_variation = np.sin(2 * np.pi * hours.dayofyear / 365.25)  # Mevsimsel dalgalanmalar\n",
    "time_of_day_variation = np.where((hours.hour >= 18) & (hours.hour <= 23), 1.5, 2)  # Akşam saatlerinde artış"
   ]
  },
  {
   "cell_type": "code",
   "execution_count": 17,
   "id": "37370a51-7e4e-4a4a-b2ee-ca136dc32cbc",
   "metadata": {},
   "outputs": [],
   "source": [
    "# Toplam enerji tüketimi\n",
    "consumption = base_consumption + 2 * seasonal_variation + time_of_day_variation\n",
    "consumption = np.clip(consumption, 0, None)  # Negatif değerleri sıfıra çevirme\n"
   ]
  },
  {
   "cell_type": "code",
   "execution_count": 18,
   "id": "08653f80-20a3-4004-ae17-2a967b5bd8cd",
   "metadata": {},
   "outputs": [],
   "source": [
    "# Veri setinin oluşturulması\n",
    "data = pd.DataFrame({\n",
    "    'Datetime': hours,\n",
    "    'Consumption_kWh': consumption\n",
    "})\n"
   ]
  },
  {
   "cell_type": "code",
   "execution_count": 19,
   "id": "8319f52b-a2a9-4606-ab56-f57cdaeecb0e",
   "metadata": {},
   "outputs": [
    {
     "data": {
      "text/html": [
       "<div>\n",
       "<style scoped>\n",
       "    .dataframe tbody tr th:only-of-type {\n",
       "        vertical-align: middle;\n",
       "    }\n",
       "\n",
       "    .dataframe tbody tr th {\n",
       "        vertical-align: top;\n",
       "    }\n",
       "\n",
       "    .dataframe thead th {\n",
       "        text-align: right;\n",
       "    }\n",
       "</style>\n",
       "<table border=\"1\" class=\"dataframe\">\n",
       "  <thead>\n",
       "    <tr style=\"text-align: right;\">\n",
       "      <th></th>\n",
       "      <th>Datetime</th>\n",
       "      <th>Consumption_kWh</th>\n",
       "    </tr>\n",
       "  </thead>\n",
       "  <tbody>\n",
       "    <tr>\n",
       "      <th>0</th>\n",
       "      <td>2023-07-09 00:00:00</td>\n",
       "      <td>6.871123</td>\n",
       "    </tr>\n",
       "    <tr>\n",
       "      <th>1</th>\n",
       "      <td>2023-07-09 01:00:00</td>\n",
       "      <td>6.712378</td>\n",
       "    </tr>\n",
       "    <tr>\n",
       "      <th>2</th>\n",
       "      <td>2023-07-09 02:00:00</td>\n",
       "      <td>6.908867</td>\n",
       "    </tr>\n",
       "    <tr>\n",
       "      <th>3</th>\n",
       "      <td>2023-07-09 03:00:00</td>\n",
       "      <td>7.127702</td>\n",
       "    </tr>\n",
       "    <tr>\n",
       "      <th>4</th>\n",
       "      <td>2023-07-09 04:00:00</td>\n",
       "      <td>6.688406</td>\n",
       "    </tr>\n",
       "  </tbody>\n",
       "</table>\n",
       "</div>"
      ],
      "text/plain": [
       "             Datetime  Consumption_kWh\n",
       "0 2023-07-09 00:00:00         6.871123\n",
       "1 2023-07-09 01:00:00         6.712378\n",
       "2 2023-07-09 02:00:00         6.908867\n",
       "3 2023-07-09 03:00:00         7.127702\n",
       "4 2023-07-09 04:00:00         6.688406"
      ]
     },
     "execution_count": 19,
     "metadata": {},
     "output_type": "execute_result"
    }
   ],
   "source": [
    "data.head()"
   ]
  },
  {
   "cell_type": "code",
   "execution_count": 20,
   "id": "6fd057dd-b617-4ab5-878d-516212937f6a",
   "metadata": {},
   "outputs": [],
   "source": [
    "data.to_csv('energy_consumption.csv', index=False)"
   ]
  },
  {
   "cell_type": "code",
   "execution_count": null,
   "id": "d51ff3f3-e2a5-4a66-b9da-cda845279884",
   "metadata": {},
   "outputs": [],
   "source": []
  }
 ],
 "metadata": {
  "kernelspec": {
   "display_name": "Python 3 (ipykernel)",
   "language": "python",
   "name": "python3"
  },
  "language_info": {
   "codemirror_mode": {
    "name": "ipython",
    "version": 3
   },
   "file_extension": ".py",
   "mimetype": "text/x-python",
   "name": "python",
   "nbconvert_exporter": "python",
   "pygments_lexer": "ipython3",
   "version": "3.12.4"
  }
 },
 "nbformat": 4,
 "nbformat_minor": 5
}
