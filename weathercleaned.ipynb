{
 "cells": [
  {
   "cell_type": "code",
   "execution_count": 1,
   "id": "1532d653-2ec7-4bfa-89ea-f985eb12b3f6",
   "metadata": {},
   "outputs": [],
   "source": [
    "import pandas as pd"
   ]
  },
  {
   "cell_type": "code",
   "execution_count": 4,
   "id": "a7e12141-d5f4-4fa8-8a44-33fed238b256",
   "metadata": {},
   "outputs": [],
   "source": [
    "df = pd.read_csv(r'C:\\Users\\EOS\\Downloads\\weather.csv')"
   ]
  },
  {
   "cell_type": "code",
   "execution_count": 5,
   "id": "cfeaee96-4f32-4819-91d1-b9de060fe87b",
   "metadata": {},
   "outputs": [],
   "source": [
    "df.columns = ['time', 'temperature(°C)', 'humidity(%)', 'cloudcover(%)', 'windspeed(km/h)', 'irrediance(W/m²)']"
   ]
  },
  {
   "cell_type": "code",
   "execution_count": 6,
   "id": "6c59e080-c967-4706-9a6f-67a3f2391ffb",
   "metadata": {},
   "outputs": [],
   "source": [
    "df = df.iloc[2:]"
   ]
  },
  {
   "cell_type": "code",
   "execution_count": 7,
   "id": "008dfd39-6b51-4336-83e2-4dbac4a20e08",
   "metadata": {},
   "outputs": [],
   "source": [
    "df.to_csv(r'C:\\Users\\EOS\\Downloads\\weather.csv', index=False)"
   ]
  },
  {
   "cell_type": "code",
   "execution_count": 8,
   "id": "656c723b-0e50-4f14-a487-f5f948d2f6d3",
   "metadata": {},
   "outputs": [
    {
     "data": {
      "text/html": [
       "<div>\n",
       "<style scoped>\n",
       "    .dataframe tbody tr th:only-of-type {\n",
       "        vertical-align: middle;\n",
       "    }\n",
       "\n",
       "    .dataframe tbody tr th {\n",
       "        vertical-align: top;\n",
       "    }\n",
       "\n",
       "    .dataframe thead th {\n",
       "        text-align: right;\n",
       "    }\n",
       "</style>\n",
       "<table border=\"1\" class=\"dataframe\">\n",
       "  <thead>\n",
       "    <tr style=\"text-align: right;\">\n",
       "      <th></th>\n",
       "      <th>time</th>\n",
       "      <th>temperature(°C)</th>\n",
       "      <th>humidity(%)</th>\n",
       "      <th>cloudcover(%)</th>\n",
       "      <th>windspeed(km/h)</th>\n",
       "      <th>irrediance(W/m²)</th>\n",
       "    </tr>\n",
       "  </thead>\n",
       "  <tbody>\n",
       "    <tr>\n",
       "      <th>2</th>\n",
       "      <td>2023-07-09T00:00</td>\n",
       "      <td>21.6</td>\n",
       "      <td>69</td>\n",
       "      <td>21</td>\n",
       "      <td>20.8</td>\n",
       "      <td>0.0</td>\n",
       "    </tr>\n",
       "    <tr>\n",
       "      <th>3</th>\n",
       "      <td>2023-07-09T01:00</td>\n",
       "      <td>21.4</td>\n",
       "      <td>66</td>\n",
       "      <td>30</td>\n",
       "      <td>22.0</td>\n",
       "      <td>0.0</td>\n",
       "    </tr>\n",
       "    <tr>\n",
       "      <th>4</th>\n",
       "      <td>2023-07-09T02:00</td>\n",
       "      <td>21.2</td>\n",
       "      <td>67</td>\n",
       "      <td>33</td>\n",
       "      <td>22.0</td>\n",
       "      <td>0.0</td>\n",
       "    </tr>\n",
       "    <tr>\n",
       "      <th>5</th>\n",
       "      <td>2023-07-09T03:00</td>\n",
       "      <td>20.4</td>\n",
       "      <td>62</td>\n",
       "      <td>49</td>\n",
       "      <td>21.9</td>\n",
       "      <td>0.0</td>\n",
       "    </tr>\n",
       "    <tr>\n",
       "      <th>6</th>\n",
       "      <td>2023-07-09T04:00</td>\n",
       "      <td>20.3</td>\n",
       "      <td>62</td>\n",
       "      <td>100</td>\n",
       "      <td>19.7</td>\n",
       "      <td>0.0</td>\n",
       "    </tr>\n",
       "    <tr>\n",
       "      <th>...</th>\n",
       "      <td>...</td>\n",
       "      <td>...</td>\n",
       "      <td>...</td>\n",
       "      <td>...</td>\n",
       "      <td>...</td>\n",
       "      <td>...</td>\n",
       "    </tr>\n",
       "    <tr>\n",
       "      <th>8805</th>\n",
       "      <td>2024-07-09T19:00</td>\n",
       "      <td>28.3</td>\n",
       "      <td>72</td>\n",
       "      <td>0</td>\n",
       "      <td>25.2</td>\n",
       "      <td>154.0</td>\n",
       "    </tr>\n",
       "    <tr>\n",
       "      <th>8806</th>\n",
       "      <td>2024-07-09T20:00</td>\n",
       "      <td>26.9</td>\n",
       "      <td>79</td>\n",
       "      <td>0</td>\n",
       "      <td>25.7</td>\n",
       "      <td>33.6</td>\n",
       "    </tr>\n",
       "    <tr>\n",
       "      <th>8807</th>\n",
       "      <td>2024-07-09T21:00</td>\n",
       "      <td>25.9</td>\n",
       "      <td>84</td>\n",
       "      <td>0</td>\n",
       "      <td>24.3</td>\n",
       "      <td>0.0</td>\n",
       "    </tr>\n",
       "    <tr>\n",
       "      <th>8808</th>\n",
       "      <td>2024-07-09T22:00</td>\n",
       "      <td>25.3</td>\n",
       "      <td>87</td>\n",
       "      <td>0</td>\n",
       "      <td>21.9</td>\n",
       "      <td>0.0</td>\n",
       "    </tr>\n",
       "    <tr>\n",
       "      <th>8809</th>\n",
       "      <td>2024-07-09T23:00</td>\n",
       "      <td>25.0</td>\n",
       "      <td>89</td>\n",
       "      <td>0</td>\n",
       "      <td>21.4</td>\n",
       "      <td>0.0</td>\n",
       "    </tr>\n",
       "  </tbody>\n",
       "</table>\n",
       "<p>8808 rows × 6 columns</p>\n",
       "</div>"
      ],
      "text/plain": [
       "                  time temperature(°C) humidity(%) cloudcover(%)  \\\n",
       "2     2023-07-09T00:00            21.6          69            21   \n",
       "3     2023-07-09T01:00            21.4          66            30   \n",
       "4     2023-07-09T02:00            21.2          67            33   \n",
       "5     2023-07-09T03:00            20.4          62            49   \n",
       "6     2023-07-09T04:00            20.3          62           100   \n",
       "...                ...             ...         ...           ...   \n",
       "8805  2024-07-09T19:00            28.3          72             0   \n",
       "8806  2024-07-09T20:00            26.9          79             0   \n",
       "8807  2024-07-09T21:00            25.9          84             0   \n",
       "8808  2024-07-09T22:00            25.3          87             0   \n",
       "8809  2024-07-09T23:00            25.0          89             0   \n",
       "\n",
       "     windspeed(km/h) irrediance(W/m²)  \n",
       "2               20.8              0.0  \n",
       "3               22.0              0.0  \n",
       "4               22.0              0.0  \n",
       "5               21.9              0.0  \n",
       "6               19.7              0.0  \n",
       "...              ...              ...  \n",
       "8805            25.2            154.0  \n",
       "8806            25.7             33.6  \n",
       "8807            24.3              0.0  \n",
       "8808            21.9              0.0  \n",
       "8809            21.4              0.0  \n",
       "\n",
       "[8808 rows x 6 columns]"
      ]
     },
     "execution_count": 8,
     "metadata": {},
     "output_type": "execute_result"
    }
   ],
   "source": [
    "df"
   ]
  },
  {
   "cell_type": "code",
   "execution_count": 10,
   "id": "097c8ecc-55cc-4d6d-81a3-9cf689ebe5ba",
   "metadata": {},
   "outputs": [
    {
     "name": "stdout",
     "output_type": "stream",
     "text": [
      "CSV dosyası başarıyla güncellendi ve kaydedildi\n"
     ]
    }
   ],
   "source": [
    "print(\"CSV dosyası başarıyla güncellendi ve kaydedildi\")"
   ]
  },
  {
   "cell_type": "code",
   "execution_count": null,
   "id": "c569e412-7658-4517-802a-8be6810f3267",
   "metadata": {},
   "outputs": [],
   "source": []
  }
 ],
 "metadata": {
  "kernelspec": {
   "display_name": "Python 3 (ipykernel)",
   "language": "python",
   "name": "python3"
  },
  "language_info": {
   "codemirror_mode": {
    "name": "ipython",
    "version": 3
   },
   "file_extension": ".py",
   "mimetype": "text/x-python",
   "name": "python",
   "nbconvert_exporter": "python",
   "pygments_lexer": "ipython3",
   "version": "3.12.4"
  }
 },
 "nbformat": 4,
 "nbformat_minor": 5
}
